{
 "cells": [
  {
   "cell_type": "code",
   "execution_count": 5,
   "metadata": {
    "collapsed": true
   },
   "outputs": [],
   "source": [
    "import torch\n",
    "from torch import optim\n",
    "\n",
    "import numpy as np\n",
    "\n",
    "import matplotlib.pyplot as plt\n",
    "from IPython import display\n",
    "\n",
    "import models\n",
    "import game as gameObject\n",
    "import trainer\n",
    "import randomAgent"
   ]
  },
  {
   "cell_type": "code",
   "execution_count": 6,
   "metadata": {
    "scrolled": true
   },
   "outputs": [
    {
     "name": "stdout",
     "output_type": "stream",
     "text": [
      "Connecting to host 127.0.0.1 at port 55717 ...\n",
      "Client connected to server [OK]\n"
     ]
    }
   ],
   "source": [
    "#Define Game\n",
    "game_description = {}\n",
    "game_description['aliens'] = {'ascii':[\".\",\"0\",\"1\",\"2\",\"A\"], 'mapping':[13, 3, 11, 12, 1]}\n",
    "\n",
    "#Game Selection\n",
    "game_name = 'aliens'\n",
    "mapping = game_description[game_name]['mapping']\n",
    "ascii = game_description[game_name]['ascii']\n",
    "lvl_shape = (14, 12, 32)\n",
    "\n",
    "#Define Agent\n",
    "agent = randomAgent.RandomAgent(100, lvl_shape)\n",
    "game = gameObject.Game(game_name, ascii)\n",
    "\n",
    "#Define Generator and Critic\n",
    "shapes = [(3, 4),(6, 8),(12, 16),(12, 32)]\n",
    "gen = models.Generator(mapping, shapes, 100)\n",
    "adapter = models.LevelAdapter(mapping, lvl_shape[0])\n",
    "\n",
    "#Define Trainer\n",
    "#trainer = trainer.Trainer(gen, adapter, game, agent, 'results/rl_trial')"
   ]
  },
  {
   "cell_type": "code",
   "execution_count": 26,
   "metadata": {
    "scrolled": true
   },
   "outputs": [
    {
     "data": {
      "text/plain": [
       "torch.Size([1, 5, 12, 32])"
      ]
     },
     "execution_count": 26,
     "metadata": {},
     "output_type": "execute_result"
    }
   ],
   "source": [
    "lvls = gen(torch.Tensor(1,100).uniform_())\n",
    "lvls.shape"
   ]
  },
  {
   "cell_type": "code",
   "execution_count": 27,
   "metadata": {},
   "outputs": [
    {
     "data": {
      "text/plain": [
       "([1], [0.0], [0.01])"
      ]
     },
     "execution_count": 27,
     "metadata": {},
     "output_type": "execute_result"
    }
   ],
   "source": [
    "lvls = game.create_levels(lvls)\n",
    "game.targets(agent, lvls)"
   ]
  },
  {
   "cell_type": "markdown",
   "metadata": {},
   "source": [
    "Visualize Agent Play"
   ]
  },
  {
   "cell_type": "code",
   "execution_count": 36,
   "metadata": {},
   "outputs": [
    {
     "data": {
      "text/plain": [
       "'NO_WINNER'"
      ]
     },
     "execution_count": 36,
     "metadata": {},
     "output_type": "execute_result"
    }
   ],
   "source": [
    "%matplotlib inline\n",
    "import gym\n",
    "import gym_gvgai\n",
    "\n",
    "import matplotlib.pyplot as plt\n",
    "from IPython import display\n",
    "\n",
    "def show_state(env, step=0, name=\"\", info=\"\"):\n",
    "    plt.figure(10)\n",
    "    plt.clf()\n",
    "    plt.imshow(env.render(mode='rgb_array'))\n",
    "    plt.title(\"{} | Step: {} {}\".format(name, step, info))\n",
    "    plt.axis('off')\n",
    "    \n",
    "    display.clear_output(wait=True)\n",
    "    display.display(plt.gcf())\n",
    "\n",
    "visual = 'grid'\n",
    "env = gym.make('gvgai-aliens-lvl0-v0')\n",
    "env.reset()\n",
    "score = 0\n",
    "for i in range(200):\n",
    "    state, reward, isOver, debug = env.step(env.action_space.sample())\n",
    "    score += reward\n",
    "    if(visual=='pixel'):\n",
    "        show_state(env, i, \"Aliens\", score)\n",
    "    elif(visual=='grid'):\n",
    "        map = np.clip(np.sum(debug['grid'], axis=0), 0, 1)\n",
    "        plt.imshow(map, cmap='hot', interpolation='nearest')\n",
    "        plt.show()\n",
    "        display.clear_output(wait=True)\n",
    "    elif(visual=='ascii'):\n",
    "        print(debug['ascii'])\n",
    "        display.clear_output(wait=True)\n",
    "    if(isOver):\n",
    "        break\n",
    "display.clear_output(wait=True)\n",
    "debug[\"winner\"]"
   ]
  },
  {
   "cell_type": "code",
   "execution_count": null,
   "metadata": {
    "collapsed": true
   },
   "outputs": [],
   "source": []
  }
 ],
 "metadata": {
  "kernelspec": {
   "display_name": "Environment (conda_generativeplaynetworks)",
   "language": "python",
   "name": "conda_generativeplaynetworks"
  },
  "language_info": {
   "codemirror_mode": {
    "name": "ipython",
    "version": 3
   },
   "file_extension": ".py",
   "mimetype": "text/x-python",
   "name": "python",
   "nbconvert_exporter": "python",
   "pygments_lexer": "ipython3",
   "version": "3.7.0"
  }
 },
 "nbformat": 4,
 "nbformat_minor": 2
}
